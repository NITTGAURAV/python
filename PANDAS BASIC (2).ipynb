{
 "cells": [
  {
   "cell_type": "markdown",
   "id": "cd828ec6-f672-445e-878c-f24217abb054",
   "metadata": {},
   "source": [
    "QUESTION 1\n"
   ]
  },
  {
   "cell_type": "code",
   "execution_count": 145,
   "id": "b1a3a42f-c151-4f89-b832-570a47ef4230",
   "metadata": {},
   "outputs": [],
   "source": [
    "import pandas as pd"
   ]
  },
  {
   "cell_type": "code",
   "execution_count": 146,
   "id": "54eac86b-02fc-49b5-be3f-eca914f55bb9",
   "metadata": {},
   "outputs": [
    {
     "name": "stdout",
     "output_type": "stream",
     "text": [
      "Requirement already satisfied: pandas in /opt/conda/lib/python3.10/site-packages (1.5.1)\n",
      "Requirement already satisfied: python-dateutil>=2.8.1 in /opt/conda/lib/python3.10/site-packages (from pandas) (2.8.2)\n",
      "Requirement already satisfied: pytz>=2020.1 in /opt/conda/lib/python3.10/site-packages (from pandas) (2022.5)\n",
      "Requirement already satisfied: numpy>=1.21.0 in /opt/conda/lib/python3.10/site-packages (from pandas) (1.23.4)\n",
      "Requirement already satisfied: six>=1.5 in /opt/conda/lib/python3.10/site-packages (from python-dateutil>=2.8.1->pandas) (1.16.0)\n",
      "Note: you may need to restart the kernel to use updated packages.\n"
     ]
    }
   ],
   "source": [
    "pip install pandas"
   ]
  },
  {
   "cell_type": "code",
   "execution_count": 147,
   "id": "57da72d7-0eb7-4585-b5be-3dfea5104cfe",
   "metadata": {},
   "outputs": [],
   "source": [
    "s=[4,8,15,16,23,42]"
   ]
  },
  {
   "cell_type": "code",
   "execution_count": 148,
   "id": "48b6a29a-8f11-49bf-bf52-99a14e39f2b5",
   "metadata": {},
   "outputs": [
    {
     "data": {
      "text/plain": [
       "0     4\n",
       "1     8\n",
       "2    15\n",
       "3    16\n",
       "4    23\n",
       "5    42\n",
       "dtype: int64"
      ]
     },
     "execution_count": 148,
     "metadata": {},
     "output_type": "execute_result"
    }
   ],
   "source": [
    "df=pd.Series(s)\n",
    "df\n"
   ]
  },
  {
   "cell_type": "code",
   "execution_count": 149,
   "id": "152da701-2872-4efb-a93b-71eee8f19ae9",
   "metadata": {},
   "outputs": [
    {
     "name": "stdout",
     "output_type": "stream",
     "text": [
      "0     4\n",
      "1     8\n",
      "2    15\n",
      "3    16\n",
      "4    23\n",
      "5    42\n",
      "dtype: int64\n"
     ]
    }
   ],
   "source": [
    "print(df)"
   ]
  },
  {
   "cell_type": "markdown",
   "id": "6d39d9a7-b8ba-49c9-bb76-e241cf86bc0c",
   "metadata": {},
   "source": [
    "QUESTION 2\n"
   ]
  },
  {
   "cell_type": "code",
   "execution_count": 150,
   "id": "dbf88f6e-8bd2-4117-a623-9e92aab69d01",
   "metadata": {},
   "outputs": [],
   "source": [
    "k=[1,3,4,5,67,8,2,9,77,98]\n"
   ]
  },
  {
   "cell_type": "code",
   "execution_count": 151,
   "id": "f02927a3-eb04-4760-a247-64525c1a7000",
   "metadata": {},
   "outputs": [
    {
     "data": {
      "text/plain": [
       "list"
      ]
     },
     "execution_count": 151,
     "metadata": {},
     "output_type": "execute_result"
    }
   ],
   "source": [
    "type(k)"
   ]
  },
  {
   "cell_type": "code",
   "execution_count": 152,
   "id": "246eb3f7-24c6-4bb2-951c-7b8c5330129d",
   "metadata": {},
   "outputs": [],
   "source": [
    "L=pd.Series(k)\n",
    "index=None"
   ]
  },
  {
   "cell_type": "code",
   "execution_count": 153,
   "id": "160474bc-4f03-4c1d-90d4-d9adbf196edc",
   "metadata": {},
   "outputs": [
    {
     "name": "stdout",
     "output_type": "stream",
     "text": [
      "0     1\n",
      "1     3\n",
      "2     4\n",
      "3     5\n",
      "4    67\n",
      "5     8\n",
      "6     2\n",
      "7     9\n",
      "8    77\n",
      "9    98\n",
      "dtype: int64\n"
     ]
    }
   ],
   "source": [
    "print(L)"
   ]
  },
  {
   "cell_type": "markdown",
   "id": "d0fa4e9a-dba0-4970-b4af-9366f6489197",
   "metadata": {},
   "source": [
    "QUESTION 3"
   ]
  },
  {
   "cell_type": "code",
   "execution_count": 154,
   "id": "829ce2d1-1905-4067-8ee1-4a7c9764455d",
   "metadata": {},
   "outputs": [],
   "source": [
    "w={'Name':['Alice','Bob','Claire'],'Age':[25,30,27],'Gender':['Female','Male','Female']}"
   ]
  },
  {
   "cell_type": "code",
   "execution_count": 163,
   "id": "b5b1814a-7bff-4704-96a0-95970c70e6c1",
   "metadata": {},
   "outputs": [],
   "source": [
    "u=pd.DataFrame(w)"
   ]
  },
  {
   "cell_type": "code",
   "execution_count": 162,
   "id": "f3af1e90-206d-46b0-b41a-59c84834e2b1",
   "metadata": {},
   "outputs": [
    {
     "name": "stdout",
     "output_type": "stream",
     "text": [
      "     Name  Age  Gender\n",
      "0   Alice   25  Female\n",
      "1     Bob   30    Male\n",
      "2  Claire   27  Female\n"
     ]
    }
   ],
   "source": [
    "print(u)"
   ]
  },
  {
   "cell_type": "markdown",
   "id": "7ad1475d-97fa-4a2e-beb9-d7ee7456b35e",
   "metadata": {},
   "source": [
    "QUESTION 4"
   ]
  },
  {
   "cell_type": "code",
   "execution_count": 45,
   "id": "7dcbd207-c871-4aa6-945f-e91ee931f1ef",
   "metadata": {},
   "outputs": [],
   "source": [
    "DataFrame means multiple column or multiple records but series is 1-D labeled array capable of holding any data type series is equivalent to list only difference is list do not have indexing of data but series have."
   ]
  },
  {
   "cell_type": "code",
   "execution_count": null,
   "id": "5b8a2fa8-daec-44f8-9ea0-16c529f453e2",
   "metadata": {},
   "outputs": [],
   "source": []
  },
  {
   "cell_type": "code",
   "execution_count": null,
   "id": "31d53dc0-4a0d-43b1-8c17-8b3b9bed5f74",
   "metadata": {},
   "outputs": [],
   "source": [
    "Common function manipulating data in pandas dataframe are\n",
    "let Dataframe name r \n",
    "r.head() ,r.tail() , r.columns etc "
   ]
  },
  {
   "cell_type": "code",
   "execution_count": 46,
   "id": "c831b535-0901-4a90-8fe4-732d1042006c",
   "metadata": {},
   "outputs": [
    {
     "data": {
      "text/plain": [
       "0    4\n",
       "1    8\n",
       "Name: series, dtype: int64"
      ]
     },
     "execution_count": 46,
     "metadata": {},
     "output_type": "execute_result"
    }
   ],
   "source": [
    "d.head(2)"
   ]
  },
  {
   "cell_type": "code",
   "execution_count": 67,
   "id": "1f9ea5e9-abd0-4071-ab92-5dfea4b73591",
   "metadata": {},
   "outputs": [
    {
     "data": {
      "text/plain": [
       "4    23\n",
       "5    42\n",
       "Name: series, dtype: int64"
      ]
     },
     "execution_count": 67,
     "metadata": {},
     "output_type": "execute_result"
    }
   ],
   "source": [
    "d.tail(2)"
   ]
  },
  {
   "cell_type": "code",
   "execution_count": null,
   "id": "8d0f1a51-1b1b-4051-808b-eb2dc556d4bf",
   "metadata": {},
   "outputs": [],
   "source": [
    "Only series is immutable, panel and dataframe are mutable."
   ]
  },
  {
   "cell_type": "code",
   "execution_count": 157,
   "id": "5dcbc9a1-638c-4921-ac09-0568614f8643",
   "metadata": {},
   "outputs": [
    {
     "data": {
      "text/html": [
       "<div>\n",
       "<style scoped>\n",
       "    .dataframe tbody tr th:only-of-type {\n",
       "        vertical-align: middle;\n",
       "    }\n",
       "\n",
       "    .dataframe tbody tr th {\n",
       "        vertical-align: top;\n",
       "    }\n",
       "\n",
       "    .dataframe thead th {\n",
       "        text-align: right;\n",
       "    }\n",
       "</style>\n",
       "<table border=\"1\" class=\"dataframe\">\n",
       "  <thead>\n",
       "    <tr style=\"text-align: right;\">\n",
       "      <th></th>\n",
       "      <th>subjects</th>\n",
       "      <th>marks</th>\n",
       "    </tr>\n",
       "  </thead>\n",
       "  <tbody>\n",
       "    <tr>\n",
       "      <th>0</th>\n",
       "      <td>C++</td>\n",
       "      <td>30</td>\n",
       "    </tr>\n",
       "    <tr>\n",
       "      <th>1</th>\n",
       "      <td>JAVA</td>\n",
       "      <td>60</td>\n",
       "    </tr>\n",
       "    <tr>\n",
       "      <th>2</th>\n",
       "      <td>PYTHON</td>\n",
       "      <td>90</td>\n",
       "    </tr>\n",
       "    <tr>\n",
       "      <th>3</th>\n",
       "      <td>DBMS</td>\n",
       "      <td>56</td>\n",
       "    </tr>\n",
       "    <tr>\n",
       "      <th>4</th>\n",
       "      <td>C#</td>\n",
       "      <td>50</td>\n",
       "    </tr>\n",
       "  </tbody>\n",
       "</table>\n",
       "</div>"
      ],
      "text/plain": [
       "  subjects marks\n",
       "0      C++    30\n",
       "1     JAVA    60\n",
       "2   PYTHON    90\n",
       "3     DBMS    56\n",
       "4       C#    50"
      ]
     },
     "execution_count": 157,
     "metadata": {},
     "output_type": "execute_result"
    }
   ],
   "source": [
    "a = pd.Series([\"C++\", \"JAVA\",\n",
    "\t\t\t\"PYTHON\", \"DBMS\",\n",
    "\t\t\t\"C#\"], name = \"subjects\")\n",
    "b = pd.Series([\"30\", \"60\",\n",
    "\t\t\t\"90\", \"56\",\n",
    "\t\t\t\"50\"], name = \"marks\")\n",
    "df = pd.merge(a, b, right_index = True,\n",
    "\t\t\tleft_index = True)\n",
    "df"
   ]
  },
  {
   "cell_type": "code",
   "execution_count": null,
   "id": "22cb6fc5-5ced-46b4-9761-d454f78ad8d1",
   "metadata": {},
   "outputs": [],
   "source": []
  }
 ],
 "metadata": {
  "kernelspec": {
   "display_name": "Python 3 (ipykernel)",
   "language": "python",
   "name": "python3"
  },
  "language_info": {
   "codemirror_mode": {
    "name": "ipython",
    "version": 3
   },
   "file_extension": ".py",
   "mimetype": "text/x-python",
   "name": "python",
   "nbconvert_exporter": "python",
   "pygments_lexer": "ipython3",
   "version": "3.10.6"
  }
 },
 "nbformat": 4,
 "nbformat_minor": 5
}
